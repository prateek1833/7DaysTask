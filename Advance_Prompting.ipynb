{
  "nbformat": 4,
  "nbformat_minor": 0,
  "metadata": {
    "colab": {
      "provenance": []
    },
    "kernelspec": {
      "name": "python3",
      "display_name": "Python 3"
    },
    "language_info": {
      "name": "python"
    }
  },
  "cells": [
    {
      "cell_type": "code",
      "execution_count": null,
      "metadata": {
        "id": "IFdwfj5xwGZd"
      },
      "outputs": [],
      "source": [
        "!pip install -qU langchain langchain-groq groq\n"
      ]
    },
    {
      "cell_type": "code",
      "source": [
        "from langchain.prompts import PromptTemplate\n",
        "from langchain_groq.chat_models import ChatGroq\n",
        "from langchain.chains import LLMChain\n",
        "import os"
      ],
      "metadata": {
        "id": "vMcTbmVJwPD5"
      },
      "execution_count": null,
      "outputs": []
    },
    {
      "cell_type": "code",
      "source": [
        "os.environ[\"GROQ_API_KEY\"] = input(\"🔐 Paste your Groq API Key here: \")\n"
      ],
      "metadata": {
        "colab": {
          "base_uri": "https://localhost:8080/"
        },
        "id": "nnIwOgpOxZDP",
        "outputId": "49eb744a-a1cf-4469-8732-cfa231abcfda"
      },
      "execution_count": null,
      "outputs": [
        {
          "name": "stdout",
          "output_type": "stream",
          "text": [
            "🔐 Paste your Groq API Key here: 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\n"
          ]
        }
      ]
    },
    {
      "cell_type": "code",
      "source": [
        "llm = ChatGroq(model=\"llama3-70b-8192\")\n"
      ],
      "metadata": {
        "id": "wABYwsF9wVMD"
      },
      "execution_count": null,
      "outputs": []
    },
    {
      "cell_type": "code",
      "source": [
        "article_text = input(\"📄 Paste your entire research article in this box:\\n\")\n"
      ],
      "metadata": {
        "colab": {
          "base_uri": "https://localhost:8080/"
        },
        "id": "oDBM8SLxwXaM",
        "outputId": "05369f15-1e0f-45c9-cf7b-3826b208f432"
      },
      "execution_count": null,
      "outputs": [
        {
          "name": "stdout",
          "output_type": "stream",
          "text": [
            "📄 Paste your entire research article in this box:\n",
            "In recent years, artificial intelligence (AI) has made significant advancements in the field of healthcare. AI algorithms are now capable of analyzing complex medical data to help doctors diagnose diseases more accurately and at earlier stages. Machine learning, a subset of AI, is especially useful in detecting patterns in large datasets, such as X-rays, MRIs, and pathology slides.  One of the most promising areas of AI application is in predictive analytics, where patient data is used to forecast potential health issues before they arise. For example, AI can predict the likelihood of heart disease based on lifestyle, genetics, and medical history. This allows for preventive care, reducing hospital admissions and improving patient outcomes.  Moreover, AI-powered chatbots and virtual assistants are being deployed to support mental health services and answer basic patient questions, reducing the workload on medical staff. Despite these advancements, concerns remain about data privacy, algorithmic bias, and the need for proper regulation.  In conclusion, while AI presents exciting opportunities in healthcare, it must be implemented thoughtfully and ethically to ensure that it benefits both patients and providers.\n"
          ]
        }
      ]
    },
    {
      "cell_type": "code",
      "source": [
        "prompting_techniques = {\n",
        "    \"Chain-of-Thought\": \"\"\"\n",
        "You are a reasoning expert.\n",
        "Break down and summarize the following article step by step.\n",
        "\n",
        "Article:\n",
        "{text}\n",
        "\n",
        "Summary:\n",
        "\"\"\",\n",
        "\n",
        "    \"Tree-of-Thoughts\": \"\"\"\n",
        "You are an expert summarizer.\n",
        "Create 3 different summaries for the article below, then choose and return the best one.\n",
        "\n",
        "Article:\n",
        "{text}\n",
        "\n",
        "Summary:\n",
        "\"\"\",\n",
        "\n",
        "    \"Role-based Prompting\": \"\"\"\n",
        "You are a university professor preparing lecture notes.\n",
        "Summarize the following article for undergraduate students in simple terms.\n",
        "\n",
        "Article:\n",
        "{text}\n",
        "\n",
        "Summary:\n",
        "\"\"\",\n",
        "\n",
        "    \"ReAct Prompting\": \"\"\"\n",
        "You are an AI assistant.\n",
        "First, identify the key ideas from the article. Then use those to write a summary.\n",
        "\n",
        "Article:\n",
        "{text}\n",
        "\n",
        "Summary:\n",
        "\"\"\",\n",
        "\n",
        "    \"Directional Stimulus Prompting\": \"\"\"\n",
        "You are a domain expert.\n",
        "Summarize only the ethical and societal implications mentioned in the article below.\n",
        "\n",
        "Article:\n",
        "{text}\n",
        "\n",
        "Summary:\n",
        "\"\"\",\n",
        "\n",
        "    \"Step-Back Prompting\": \"\"\"\n",
        "You are an AI summarizer trained in critical thinking.\n",
        "Summarize the article, then reflect if anything is missing and refine the summary.\n",
        "\n",
        "Article:\n",
        "{text}\n",
        "\n",
        "Summary:\n",
        "\"\"\"\n",
        "}\n"
      ],
      "metadata": {
        "id": "omX98uDkwZeg"
      },
      "execution_count": null,
      "outputs": []
    },
    {
      "cell_type": "code",
      "source": [
        "for technique, template in prompting_techniques.items():\n",
        "    print(f\"\\n🔷 {technique} Prompt:\\n{'-'*60}\")\n",
        "\n",
        "    prompt = PromptTemplate(input_variables=[\"text\"], template=template)\n",
        "    chain = LLMChain(llm=llm, prompt=prompt)\n",
        "\n",
        "    print(\"⏳ Generating summary...\")\n",
        "    result = chain.run(article_text)\n",
        "\n",
        "    print(\"✅ Summary:\\n\", result)\n",
        "    print(\"=\"*80)"
      ],
      "metadata": {
        "colab": {
          "base_uri": "https://localhost:8080/"
        },
        "id": "1fZiCZqIwe8m",
        "outputId": "bd8d9d88-4652-4d8c-e29d-23398bc31bc0"
      },
      "execution_count": null,
      "outputs": [
        {
          "output_type": "stream",
          "name": "stdout",
          "text": [
            "\n",
            "🔷 Chain-of-Thought Prompt:\n",
            "------------------------------------------------------------\n",
            "⏳ Generating summary...\n",
            "✅ Summary:\n",
            " Here is a step-by-step breakdown and summary of the article:\n",
            "\n",
            "**Step 1: Introduction**\n",
            "The article discusses the recent advancements of Artificial Intelligence (AI) in the healthcare field.\n",
            "\n",
            "**Step 2: Capabilities of AI in Healthcare**\n",
            "AI algorithms can analyze complex medical data to help doctors diagnose diseases more accurately and at earlier stages. Specifically, machine learning (a subset of AI) is useful in detecting patterns in large datasets such as X-rays, MRIs, and pathology slides.\n",
            "\n",
            "**Step 3: Predictive Analytics**\n",
            "One of the most promising areas of AI application is in predictive analytics, which uses patient data to forecast potential health issues before they arise. For example, AI can predict the likelihood of heart disease based on lifestyle, genetics, and medical history, allowing for preventive care and improving patient outcomes.\n",
            "\n",
            "**Step 4: Support for Mental Health Services**\n",
            "AI-powered chatbots and virtual assistants are being used to support mental health services and answer basic patient questions, reducing the workload on medical staff.\n",
            "\n",
            "**Step 5: Concerns and Limitations**\n",
            "Despite the advancements, concerns remain about:\n",
            "\n",
            "* Data privacy\n",
            "* Algorithmic bias\n",
            "* The need for proper regulation\n",
            "\n",
            "**Step 6: Conclusion**\n",
            "While AI presents exciting opportunities in healthcare, it must be implemented thoughtfully and ethically to ensure that it benefits both patients and providers.\n",
            "\n",
            "**Summary:**\n",
            "The article discusses the advancements of AI in healthcare, including its capabilities in diagnostic analysis, predictive analytics, and support for mental health services. However, it also highlights the concerns and limitations of AI in healthcare, emphasizing the need for thoughtful and ethical implementation to ensure benefits for both patients and providers.\n",
            "================================================================================\n",
            "\n",
            "🔷 Tree-of-Thoughts Prompt:\n",
            "------------------------------------------------------------\n",
            "⏳ Generating summary...\n",
            "✅ Summary:\n",
            " Here are three different summaries for the article:\n",
            "\n",
            "**Summary 1**\n",
            "Artificial intelligence (AI) is revolutionizing healthcare by enabling accurate diagnoses, predictive analytics, and improved patient outcomes. AI algorithms can analyze complex medical data, detect patterns, and forecast potential health issues. While promising, concerns around data privacy, algorithmic bias, and regulation must be addressed.\n",
            "\n",
            "**Summary 2**\n",
            "Recent advancements in artificial intelligence (AI) have transformed healthcare by enhancing diagnostic accuracy, predictive capabilities, and patient care. AI-powered tools can analyze medical data, identify patterns, and predict health issues, enabling preventive care and improved outcomes. However, ethical considerations and regulations are crucial to ensure responsible implementation.\n",
            "\n",
            "**Summary 3**\n",
            "The healthcare industry is experiencing a significant transformation thanks to artificial intelligence (AI). AI algorithms can analyze complex medical data, enabling early disease detection and prediction. Additionally, AI-powered chatbots and virtual assistants support mental health services and reduce the workload on medical staff. Despite the benefits, concerns around data privacy, bias, and regulation must be addressed to ensure AI benefits both patients and providers.\n",
            "\n",
            "After reviewing the three summaries, I choose **Summary 2** as the best one. It provides a concise and clear overview of the article, highlighting the key benefits of AI in healthcare while also acknowledging the importance of ethical considerations and regulations. The language is straightforward, and the summary effectively conveys the main points of the article.\n",
            "================================================================================\n",
            "\n",
            "🔷 Role-based Prompting Prompt:\n",
            "------------------------------------------------------------\n",
            "⏳ Generating summary...\n",
            "✅ Summary:\n",
            " Here's a summary of the article in simple terms for undergraduate students:\n",
            "\n",
            "**Artificial Intelligence in Healthcare: Improving Diagnosis and Care**\n",
            "\n",
            "Artificial intelligence (AI) is revolutionizing healthcare by helping doctors diagnose diseases more accurately and earlier. One way AI does this is by analyzing large amounts of medical data, such as X-rays and MRIs, to detect patterns that humans might miss. This is especially useful in predicting health problems before they occur, like forecasting the likelihood of heart disease based on a patient's lifestyle, genetics, and medical history. This allows for preventive care, reducing hospital admissions and improving patient outcomes.\n",
            "\n",
            "AI is also being used to support mental health services and answer basic patient questions, freeing up medical staff to focus on more important tasks. While AI has great potential in healthcare, there are concerns about keeping patient data private, ensuring AI systems are fair and unbiased, and regulating the use of AI in healthcare. Overall, AI can greatly improve healthcare, but it must be used thoughtfully and ethically to benefit both patients and healthcare providers.\n",
            "================================================================================\n",
            "\n",
            "🔷 ReAct Prompting Prompt:\n",
            "------------------------------------------------------------\n",
            "⏳ Generating summary...\n",
            "✅ Summary:\n",
            " **Key Ideas:**\n",
            "\n",
            "1. AI has made significant advancements in healthcare, particularly in disease diagnosis and predictive analytics.\n",
            "2. Machine learning is useful in detecting patterns in large medical datasets, such as X-rays and MRIs.\n",
            "3. Predictive analytics can forecast potential health issues, enabling preventive care and improving patient outcomes.\n",
            "4. AI-powered chatbots and virtual assistants can support mental health services and answer patient questions, reducing the workload on medical staff.\n",
            "5. Concerns remain about data privacy, algorithmic bias, and the need for proper regulation in AI implementation.\n",
            "\n",
            "**Summary:**\n",
            "\n",
            "Artificial intelligence (AI) has made significant strides in healthcare, enhancing disease diagnosis and predictive analytics. AI algorithms can analyze complex medical data to detect patterns, enabling earlier and more accurate diagnoses. Predictive analytics can forecast potential health issues, allowing for preventive care and improving patient outcomes. Additionally, AI-powered chatbots and virtual assistants can support mental health services and answer patient questions, reducing the workload on medical staff. While AI presents exciting opportunities in healthcare, it is crucial to address concerns about data privacy, algorithmic bias, and regulation to ensure its implementation benefits both patients and providers.\n",
            "================================================================================\n",
            "\n",
            "🔷 Directional Stimulus Prompting Prompt:\n",
            "------------------------------------------------------------\n",
            "⏳ Generating summary...\n",
            "✅ Summary:\n",
            " Here is a summary of the ethical and societal implications mentioned in the article:\n",
            "\n",
            "* Concerns about data privacy\n",
            "* Algorithmic bias\n",
            "* Need for proper regulation to ensure AI is implemented thoughtfully and ethically.\n",
            "================================================================================\n",
            "\n",
            "🔷 Step-Back Prompting Prompt:\n",
            "------------------------------------------------------------\n",
            "⏳ Generating summary...\n",
            "✅ Summary:\n",
            " Here is my initial summary:\n",
            "\n",
            "Artificial intelligence (AI) has made significant progress in healthcare, enabling doctors to diagnose diseases more accurately and earlier. AI's machine learning capabilities are useful in analyzing large medical datasets, such as X-rays and pathology slides. AI's predictive analytics can forecast health issues, allowing for preventive care and improved patient outcomes. Additionally, AI-powered chatbots support mental health services and answer patient questions, reducing the workload on medical staff. However, concerns about data privacy, algorithmic bias, and regulation must be addressed.\n",
            "\n",
            "Reflection:\n",
            "Upon reviewing my summary, I notice that I may have oversimplified the benefits of AI in healthcare. While the article mentions the potential benefits of AI, it also emphasizes the need for thoughtful and ethical implementation. I will refine my summary to better reflect this nuance:\n",
            "\n",
            "Artificial intelligence (AI) has made significant progress in healthcare, enabling doctors to diagnose diseases more accurately and earlier. AI's machine learning capabilities are useful in analyzing large medical datasets, such as X-rays and pathology slides. AI's predictive analytics can forecast health issues, allowing for preventive care and improved patient outcomes. Additionally, AI-powered chatbots support mental health services and answer patient questions, reducing the workload on medical staff. However, the successful integration of AI in healthcare requires careful consideration of ethical concerns, including data privacy, algorithmic bias, and regulation, to ensure that AI benefits both patients and providers.\n",
            "\n",
            "In this refined summary, I have explicitly highlighted the need for careful consideration of ethical concerns, which is a crucial aspect of the original article.\n",
            "================================================================================\n"
          ]
        }
      ]
    },
    {
      "cell_type": "code",
      "source": [],
      "metadata": {
        "id": "cK_5wySswhlK"
      },
      "execution_count": null,
      "outputs": []
    }
  ]
}