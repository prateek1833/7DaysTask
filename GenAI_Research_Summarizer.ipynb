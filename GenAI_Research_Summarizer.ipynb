{
  "nbformat": 4,
  "nbformat_minor": 0,
  "metadata": {
    "colab": {
      "provenance": []
    },
    "kernelspec": {
      "name": "python3",
      "display_name": "Python 3"
    },
    "language_info": {
      "name": "python"
    }
  },
  "cells": [
    {
      "cell_type": "code",
      "execution_count": null,
      "metadata": {
        "id": "v6XjZnb_RJpB"
      },
      "outputs": [],
      "source": [
        "!pip install -qU langchain langchain-groq groq\n",
        "\n"
      ]
    },
    {
      "cell_type": "code",
      "source": [
        "from langchain.prompts import PromptTemplate\n",
        "from langchain_groq.chat_models import ChatGroq\n",
        "from langchain.chains import LLMChain\n",
        "\n"
      ],
      "metadata": {
        "id": "uuOWMdXJRkWP"
      },
      "execution_count": null,
      "outputs": []
    },
    {
      "cell_type": "code",
      "source": [
        "import os\n",
        "\n",
        "if \"GROQ_API_KEY\" not in os.environ:\n",
        "    os.environ[\"GROQ_API_KEY\"] = input(\"🔐 Paste your Groq API Key here: \")\n",
        "\n"
      ],
      "metadata": {
        "id": "VpNG1ZceRmd6"
      },
      "execution_count": null,
      "outputs": []
    },
    {
      "cell_type": "code",
      "source": [
        "llm = ChatGroq(model=\"llama3-70b-8192\")\n",
        "prompt = PromptTemplate(\n",
        "    input_variables=[\"text\"],\n",
        "    template=\"\"\"\n",
        "You are an expert research summarizer.\n",
        "Summarize the following research article into a single paragraph of max 150 words.\n",
        "Cover: background intro, objective, method, results, and key conclusion.\n",
        "\n",
        "Article:\n",
        "{text}\n",
        "\n",
        "Summary:\n",
        "\"\"\"\n",
        ")\n",
        "chain = LLMChain(llm=llm, prompt=prompt)"
      ],
      "metadata": {
        "id": "fOEu-YtWStsx"
      },
      "execution_count": null,
      "outputs": []
    },
    {
      "cell_type": "code",
      "source": [
        "article_text = input(\"📄 Paste your entire research article in this box:\\n\")\n"
      ],
      "metadata": {
        "colab": {
          "base_uri": "https://localhost:8080/"
        },
        "id": "Ie22eCkPS-9m",
        "outputId": "68a109d8-6538-4f7e-8ffc-049e032a81cf"
      },
      "execution_count": null,
      "outputs": [
        {
          "name": "stdout",
          "output_type": "stream",
          "text": [
            "📄 Paste your entire research article in this box:\n",
            "In recent years, social media has become an integral part of daily life, especially among young adults aged 18 to 30. With platforms such as Instagram, X (formerly Twitter), Snapchat, and TikTok dominating screen time, the implications of prolonged exposure to social media on mental well-being have attracted growing attention from researchers, psychologists, and educators. This article delves into the background of social media usage, outlines the objectives of recent studies, explains the methodologies employed, presents the findings, and discusses the broader implications of those results on mental health.  The rise of smartphones and high-speed internet has made social media accessible to nearly everyone with a digital device. According to the Pew Research Center, over 90% of young adults in developed countries use at least one social media platform daily. Social media offers benefits such as increased connectivity, information sharing, and platforms for self-expression. However, concerns are emerging about the adverse effects, including anxiety, depression, loneliness, and distorted body image, all potentially linked to continuous online engagement.  The primary objective of recent studies has been to investigate whether there's a direct relationship between time spent on social media and the mental health of young adults. Additionally, researchers aim to understand whether specific patterns of use — such as passive scrolling versus active engagement — have varying effects on emotional well-being. Some studies also explore how the type of content consumed (e.g., idealized lifestyles, filtered photos) influences users' perceptions of themselves and others.  To conduct this research, scholars have employed a mix of qualitative and quantitative methods. Surveys and questionnaires distributed to thousands of young adults collected self-reported data about social media usage, emotional states, and perceived life satisfaction. In addition, several studies used digital tracking software to monitor the actual screen time spent on various platforms. Interviews and focus groups added a qualitative layer to the data, offering insight into users’ personal experiences and feelings while using social media.  A landmark study published in the Journal of Psychological Health analyzed data from 3,500 college students across the U.S. over a 12-month period. The researchers categorized participants into low, moderate, and high social media users. They found that those in the high-use group — spending more than 3 hours per day on platforms — reported significantly higher levels of anxiety and depressive symptoms than the low-use group. Interestingly, the study revealed that passive users (those who mostly scrolled without interacting) were more negatively affected than active users who commented, messaged, or posted regularly.  Another noteworthy finding was the impact of comparison. Many participants reported feelings of inadequacy or low self-esteem after seeing curated images of others’ seemingly perfect lives. This phenomenon, referred to as “social comparison,” often leads to negative self-evaluation, especially when users compare themselves to influencers or peers with more likes, followers, or luxurious lifestyles.  However, not all findings were negative. The studies also noted that when used consciously and in moderation, social media can foster feelings of belonging and support. Many young adults used platforms to connect with support groups, share mental health journeys, or engage with inspiring content. Particularly during times of crisis — such as the COVID-19 pandemic — social media became a critical tool for maintaining emotional and social connection.  The key takeaway from this body of research is not that social media is inherently harmful, but that how it is used greatly matters. Moderation, active engagement, and mindful content consumption appear to mitigate many of the adverse effects observed. Several mental health experts now advocate for \"digital hygiene\" — a set of habits that includes limiting screen time, avoiding social media before bed, and regularly taking digital detoxes.  In conclusion, while social media offers undeniable benefits in terms of connectivity and self-expression, it also poses risks to mental health when overused or used unmindfully. The growing body of evidence suggests that awareness, education, and behavioral changes can significantly reduce the negative impact. Policymakers, educators, and parents are encouraged to promote healthy online habits and incorporate mental health literacy into school and college curricula. With balanced usage and conscious engagement, social media can become a tool for growth rather than harm for young adults navigating the complexities of modern life.\n"
          ]
        }
      ]
    },
    {
      "cell_type": "code",
      "source": [
        "print(\"\\n⏳ Summarizing...\")\n",
        "summary = chain.run(article_text)\n",
        "print(\"\\n✅ Summary:\\n\")\n",
        "print(summary)\n"
      ],
      "metadata": {
        "id": "HdZdPWzYTFyR",
        "colab": {
          "base_uri": "https://localhost:8080/"
        },
        "outputId": "30154846-42c2-4b40-9b95-1416954c6ccc"
      },
      "execution_count": null,
      "outputs": [
        {
          "output_type": "stream",
          "name": "stdout",
          "text": [
            "\n",
            "⏳ Summarizing...\n",
            "\n",
            "✅ Summary:\n",
            "\n",
            "Here is a summary of the research article in 150 words:\n",
            "\n",
            "The article investigates the impact of social media on the mental well-being of young adults aged 18-30. With over 90% of young adults using social media daily, concerns have emerged about its adverse effects on mental health. Recent studies aim to explore the direct relationship between social media use and mental health, as well as the impact of specific patterns of use and content consumption. Using a mix of qualitative and quantitative methods, including surveys, digital tracking, and interviews, researchers found that high social media users (over 3 hours/day) reported higher levels of anxiety and depression. Passive users were more negatively affected than active users, and social comparison was a significant contributor to negative self-evaluation. However, moderate and conscious social media use can foster feelings of belonging and support. The key conclusion is that mindful social media use, including moderation and digital hygiene practices, can mitigate its adverse effects on mental health.\n"
          ]
        }
      ]
    },
    {
      "cell_type": "code",
      "source": [],
      "metadata": {
        "id": "9PqOxYC4khs_"
      },
      "execution_count": null,
      "outputs": []
    }
  ]
}